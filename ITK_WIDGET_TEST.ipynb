{
 "cells": [
  {
   "cell_type": "code",
   "execution_count": 4,
   "id": "2c8b4452-fcd2-47c4-92dd-8cb18be6ecbe",
   "metadata": {},
   "outputs": [
    {
     "name": "stdout",
     "output_type": "stream",
     "text": [
      "\u001b[31mERROR: Could not install packages due to an OSError: [Errno 16] Device or resource busy: '.nfs000000000354ac4f00000188'\n",
      "\u001b[0m\u001b[31m\n",
      "\u001b[0m"
     ]
    }
   ],
   "source": [
    "# Install dependencies for this example\n",
    "import sys\n",
    "\n",
    "!{sys.executable} -m pip install -q pooch tqdm \"itk-io>=5.3.0\" \"itk-filtering>=5.3.0\" \"itkwidgets[all]>=1.0a41\" rich"
   ]
  },
  {
   "cell_type": "code",
   "execution_count": 5,
   "id": "7e92b14e-1b6d-41e4-bea8-1a0d2837507e",
   "metadata": {},
   "outputs": [
    {
     "ename": "ModuleNotFoundError",
     "evalue": "No module named 'itk'",
     "output_type": "error",
     "traceback": [
      "\u001b[0;31m---------------------------------------------------------------------------\u001b[0m",
      "\u001b[0;31mModuleNotFoundError\u001b[0m                       Traceback (most recent call last)",
      "Cell \u001b[0;32mIn[5], line 1\u001b[0m\n\u001b[0;32m----> 1\u001b[0m \u001b[38;5;28;01mimport\u001b[39;00m \u001b[38;5;21;01mitk\u001b[39;00m\n\u001b[1;32m      2\u001b[0m \u001b[38;5;28;01mimport\u001b[39;00m \u001b[38;5;21;01mpooch\u001b[39;00m\n\u001b[1;32m      3\u001b[0m \u001b[38;5;28;01mfrom\u001b[39;00m \u001b[38;5;21;01mngff_zarr\u001b[39;00m \u001b[38;5;28;01mimport\u001b[39;00m ngff_image_to_itk_image, to_ngff_zarr, itk_image_to_ngff_image\n",
      "\u001b[0;31mModuleNotFoundError\u001b[0m: No module named 'itk'"
     ]
    }
   ],
   "source": [
    "import itk\n",
    "import pooch\n",
    "from ngff_zarr import ngff_image_to_itk_image, to_ngff_zarr, itk_image_to_ngff_image\n",
    "from itkwidgets import view\n",
    "import zarr\n",
    "from rich import print"
   ]
  },
  {
   "cell_type": "code",
   "execution_count": null,
   "id": "48020fbe-fcd3-4a85-a0dd-5cf5e6dd8c76",
   "metadata": {},
   "outputs": [],
   "source": [
    "file_name = pooch.retrieve('https://data.kitware.com/api/v1/file/564a5b078d777f7522dbfaa6/download',\n",
    "                           fname='005_32months_T2_RegT1_Reg2Atlas_ManualBrainMask_Stripped.nrrd',\n",
    "                           known_hash='a4a5739d5484f48653404763f807ff2b0e1900209cce029d912c2f92797207b6',\n",
    "                           progressbar=True)"
   ]
  },
  {
   "cell_type": "code",
   "execution_count": null,
   "id": "f020ac15-d11d-4633-b323-a5f64a4003e3",
   "metadata": {},
   "outputs": [],
   "source": []
  }
 ],
 "metadata": {
  "kernelspec": {
   "display_name": "itk",
   "language": "python",
   "name": "itk"
  },
  "language_info": {
   "codemirror_mode": {
    "name": "ipython",
    "version": 3
   },
   "file_extension": ".py",
   "mimetype": "text/x-python",
   "name": "python",
   "nbconvert_exporter": "python",
   "pygments_lexer": "ipython3",
   "version": "3.8.13"
  }
 },
 "nbformat": 4,
 "nbformat_minor": 5
}
